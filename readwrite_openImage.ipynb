{
 "cells": [
  {
   "cell_type": "markdown",
   "metadata": {},
   "source": [
    "WITHOUT USING MATPLOTLIB, WE WORK WITH IMAGE WITH OPENCV"
   ]
  },
  {
   "cell_type": "code",
   "execution_count": 2,
   "metadata": {},
   "outputs": [
    {
     "name": "stderr",
     "output_type": "stream",
     "text": [
      "[ WARN:0@0.016] global loadsave.cpp:268 findDecoder imread_('/Users/asleshakamera/Desktop/DSANDML/dog.jpg'): can't open/read file: check file path/integrity\n"
     ]
    }
   ],
   "source": [
    "import cv2\n",
    "wrong_img = cv2.imread(r'/Users/asleshakamera/Desktop/DSANDML/dog.jpg') #This file doesn't exist"
   ]
  },
  {
   "cell_type": "code",
   "execution_count": 3,
   "metadata": {},
   "outputs": [
    {
     "data": {
      "text/plain": [
       "NoneType"
      ]
     },
     "execution_count": 3,
     "metadata": {},
     "output_type": "execute_result"
    }
   ],
   "source": [
    "type(wrong_img)"
   ]
  },
  {
   "cell_type": "code",
   "execution_count": 4,
   "metadata": {},
   "outputs": [],
   "source": [
    "myimg = cv2.imread(r'/Users/asleshakamera/Desktop/DSANDML/tiger.jpg')"
   ]
  },
  {
   "cell_type": "code",
   "execution_count": null,
   "metadata": {},
   "outputs": [
    {
     "name": "stderr",
     "output_type": "stream",
     "text": [
      "2025-03-14 01:43:35.390 python[59316:4027542] +[IMKClient subclass]: chose IMKClient_Modern\n",
      "2025-03-14 01:43:35.390 python[59316:4027542] +[IMKInputSession subclass]: chose IMKInputSession_Modern\n"
     ]
    }
   ],
   "source": [
    "#cv2.imshow('myImage', myimg)\n",
    "#cv2.waitKey() #Waitkey keeps on executing until it is killed. that is why we wrote a while loop below"
   ]
  },
  {
   "cell_type": "code",
   "execution_count": 6,
   "metadata": {},
   "outputs": [
    {
     "name": "stderr",
     "output_type": "stream",
     "text": [
      "2025-03-14 01:50:09.939 python[61121:4050217] +[IMKClient subclass]: chose IMKClient_Modern\n",
      "2025-03-14 01:50:09.939 python[61121:4050217] +[IMKInputSession subclass]: chose IMKInputSession_Modern\n"
     ]
    }
   ],
   "source": [
    "import cv2\n",
    "myimg = cv2.imread(r'/Users/asleshakamera/Desktop/DSANDML/tiger.jpg')\n",
    "\n",
    "while True:\n",
    "    cv2.imshow('myImage', myimg)\n",
    "    \n",
    "    if cv2.waitKey(1) & 0xFF ==27:\n",
    "        break\n",
    "cv2.destroyAllWindows()\n"
   ]
  },
  {
   "cell_type": "markdown",
   "metadata": {},
   "source": [
    "Practical 3 DOne"
   ]
  }
 ],
 "metadata": {
  "kernelspec": {
   "display_name": "base",
   "language": "python",
   "name": "python3"
  },
  "language_info": {
   "codemirror_mode": {
    "name": "ipython",
    "version": 3
   },
   "file_extension": ".py",
   "mimetype": "text/x-python",
   "name": "python",
   "nbconvert_exporter": "python",
   "pygments_lexer": "ipython3",
   "version": "3.12.7"
  }
 },
 "nbformat": 4,
 "nbformat_minor": 2
}
